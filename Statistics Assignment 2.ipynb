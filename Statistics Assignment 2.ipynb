{
 "cells": [
  {
   "cell_type": "code",
   "execution_count": 1,
   "id": "02051379-2f17-4524-a164-4949eaa70dcb",
   "metadata": {},
   "outputs": [],
   "source": [
    "# 1 Ans. The Probability Mass Function (PMF) is also called a probability function or frequency function \n",
    "#        which characterizes the distribution of a discrete random variable. \n",
    "#        Let X be a discrete random variable of a function, \n",
    "#         then the probability mass function of a random variable X is given by\n",
    "\n",
    "# The Probability Density Function(PDF) defines the probability function \n",
    "# representing the density of a continuous random variable lying between a specific range of values.\n",
    "# In other words, the probability density function produces the likelihood of values of the continuous random variable. \n",
    "# Sometimes it is also called a probability distribution function or just a probability function."
   ]
  },
  {
   "cell_type": "code",
   "execution_count": 2,
   "id": "caf11925-37fb-493b-ad0f-1b862e509188",
   "metadata": {},
   "outputs": [],
   "source": [
    "# 2 Ans.  The cumulative distribution function (cdf) gives the probability that the random variable X is less \n",
    "#         than or equal to x and is usually denoted F(x) . \n",
    "#        The cumulative distribution function of a random variable X is the function given by F(x)=P[X≤x].\n",
    "#         F ( x ) = P [ X ≤ x ] ."
   ]
  },
  {
   "cell_type": "code",
   "execution_count": 3,
   "id": "c384d64c-9bf4-403a-98bd-8e0269cf2f1e",
   "metadata": {},
   "outputs": [],
   "source": [
    "# 3 Ans. Many natural phenomena, such as the height and weight of people, follow a normal distribution. \n",
    "#        The normal distribution is also used as a model for the sampling distribution of many statistics,\n",
    "#        such as the sample mean and sample proportion"
   ]
  },
  {
   "cell_type": "code",
   "execution_count": 4,
   "id": "dbdf3980-6399-417d-8662-791fc2e30ce8",
   "metadata": {},
   "outputs": [],
   "source": [
    "# 4 Ans. All kinds of variables in natural and social sciences are normally or approximately normally distributed. \n",
    "#        Height, birth weight, reading ability, job satisfaction, or SAT scores are just a few examples of such variables."
   ]
  },
  {
   "cell_type": "code",
   "execution_count": null,
   "id": "18a8273b-dd23-4b29-b1f7-6f878c9d87e2",
   "metadata": {},
   "outputs": [],
   "source": [
    "# 5 Ans. Bernoulli deals with the outcome of the single trial of the event,\n",
    "#        whereas Binomial deals with the outcome of the multiple trials of the single event"
   ]
  }
 ],
 "metadata": {
  "kernelspec": {
   "display_name": "Python 3 (ipykernel)",
   "language": "python",
   "name": "python3"
  },
  "language_info": {
   "codemirror_mode": {
    "name": "ipython",
    "version": 3
   },
   "file_extension": ".py",
   "mimetype": "text/x-python",
   "name": "python",
   "nbconvert_exporter": "python",
   "pygments_lexer": "ipython3",
   "version": "3.10.8"
  }
 },
 "nbformat": 4,
 "nbformat_minor": 5
}
